{
 "cells": [
  {
   "cell_type": "code",
   "execution_count": null,
   "metadata": {},
   "outputs": [],
   "source": [
    "# Group Members: Emily Rude, Ye Sheng, Tiffany Valitis, Leon Cai"
   ]
  },
  {
   "cell_type": "markdown",
   "metadata": {},
   "source": [
    "# Final Project: Predicting the political affiliations of US Counties\n",
    "\n",
    "The goal of this project is to predict whether a given county in the U.S. leans Democratic or Republican based on characteristics such as age, educational level and racial breakdown, the types of industries that its residents work in, and median income. For the purposes of this project, a county is classified as Democratic if the Democratic presidental candidate had the highest percentage of votes in 2016, and Republican if the Republican presidental candidate had the highest percentage of votes in 2016. The dataset we are using, which shows the Democratic/Republican voting breakdown for every county in the U.S. and the charactersitics of each of these counties can be found [here](https://public.opendatasoft.com/explore/dataset/usa-2016-presidential-election-by-county/export/?disjunctive.state).\n"
   ]
  },
  {
   "cell_type": "code",
   "execution_count": null,
   "metadata": {},
   "outputs": [],
   "source": [
    "#You may add additional imports\n",
    "import warnings\n",
    "warnings.simplefilter(\"ignore\")\n",
    "import pandas as pd\n",
    "import numpy as np\n",
    "import sklearn as sk\n",
    "import matplotlib.pyplot as plt\n",
    "import time\n",
    "import math\n",
    "from sklearn.model_selection import cross_val_predict\n",
    "from sklearn.metrics import confusion_matrix\n",
    "from sklearn.metrics import classification_report\n",
    "%matplotlib inline"
   ]
  },
  {
   "cell_type": "markdown",
   "metadata": {},
   "source": [
    "## Feature Selection\n",
    "\n",
    "While the given dataset includes a vast amount of information on each county, many of these features can be trimmed because either two or more features are closely correlated to each other and thus not all of those features are needed, or there is little or no correlation between those features and a county's political affiliation. The features selected below are the most indicative of a county's political characteristics. The percincts feature was left out for example because the votes feature was a similar indicator of the county's size, and the weather features were left out for example because they were lowly correlated to political affiliation."
   ]
  },
  {
   "cell_type": "code",
   "execution_count": null,
   "metadata": {},
   "outputs": [],
   "source": [
    "# Read the data from csv file\n",
    "col_names = []\n",
    "for i in range(33):\n",
    "    if i == 0:\n",
    "        col_names.append('State')\n",
    "    if i == 1:\n",
    "        col_names.append('Fips')\n",
    "    if i == 2:\n",
    "        col_names.append('County')\n",
    "    if i == 3:\n",
    "        col_names.append('Votes')\n",
    "    if i == 4:\n",
    "        col_names.append('Republicans 2016')\n",
    "    if i == 5:\n",
    "        col_names.append('Democrats 2016')\n",
    "    if i == 6:\n",
    "        col_names.append('Republicans 2012')\n",
    "    if i == 7:\n",
    "        col_names.append('Republicans 2008')\n",
    "    if i == 8:\n",
    "        col_names.append('Democrats 2012')\n",
    "    if i == 9:\n",
    "        col_names.append('Democrats 2008')\n",
    "    if i == 10:\n",
    "        col_names.append('Less Than High School Diploma')\n",
    "    if i == 11:\n",
    "        col_names.append('At Least High School Diploma')\n",
    "    if i == 12:\n",
    "        col_names.append('At Least Bachelors Degree')\n",
    "    if i == 13:\n",
    "        col_names.append('Graduate Degree')\n",
    "    if i == 14:\n",
    "        col_names.append('Median Earnings 2010')\n",
    "    if i == 15:\n",
    "        col_names.append('Total Population')\n",
    "    if i == 16:\n",
    "        col_names.append('Poverty Rate below federal poverty threshold')\n",
    "    if i == 17:\n",
    "        col_names.append('Management professional and related occupations')\n",
    "    if i == 18:\n",
    "        col_names.append('Service occupations')\n",
    "    if i == 19:\n",
    "        col_names.append('Sales and office occupations')\n",
    "    if i == 20:\n",
    "        col_names.append('Farming fishing and forestry occupations')\n",
    "    if i == 21:\n",
    "        col_names.append('Construction extraction maintenance and repair occupations')\n",
    "    if i == 22:\n",
    "        col_names.append('Production transportation and material moving occupations')\n",
    "    if i == 23:\n",
    "        col_names.append('White')\n",
    "    if i == 24:\n",
    "        col_names.append('Black')\n",
    "    if i == 25:\n",
    "        col_names.append('Hispanic')\n",
    "    if i == 26:\n",
    "        col_names.append('Asian')\n",
    "    if i == 27:\n",
    "        col_names.append('Amerindian')\n",
    "    if i == 28:\n",
    "        col_names.append('Other Race')\n",
    "    if i == 29:\n",
    "        col_names.append('Median Age')\n",
    "    if i == 30:\n",
    "        col_names.append('Uninsured')\n",
    "    if i == 31:\n",
    "        col_names.append('Unemployment')\n",
    "    if i == 32:\n",
    "        col_names.append('Violent crime')\n",
    "        \n",
    "data = pd.read_csv(\"2016_election_dataset.csv\", names = col_names, index_col=False)\n",
    "print(data.shape)\n",
    "data.head(10)"
   ]
  },
  {
   "cell_type": "markdown",
   "metadata": {},
   "source": [
    "## Labeling the Data\n",
    "\n",
    "Each county is labeled 0 for Republican or 1 for Democrat based on which party had a higher voting percentage in 2016. After these labels are added, the 2016 Democratic and Republican voting percentages are then removed. This is because when we are given a particular county with certain characteristics that we want to predict the political affiliation of, those percentages won't be known.\n",
    "\n",
    "## Cleaning the Data\n",
    "\n",
    "For counties that are missing information in any of the features selected (particularly a few lowly populated counties in Alaska that are too small to have information on all of these fields), we have decided to drop these records from the dataset (List wise deletion). Only a few records have to be dropped under this scenario, and we still have more than enough records to build an accurate and coherent model."
   ]
  },
  {
   "cell_type": "code",
   "execution_count": null,
   "metadata": {},
   "outputs": [],
   "source": [
    "#Republican is 0, Democrat is 1\n",
    "def label_party (row):\n",
    "    if row['Republicans 2016'] > row['Democrats 2016']:\n",
    "        return 0\n",
    "    if row['Republicans 2016'] < row['Democrats 2016']:\n",
    "        return 1\n",
    "    if row['Republicans 2016'] == row['Democrats 2016']:\n",
    "        return None\n",
    "    \n",
    "def convertToNumber (s):\n",
    "    return int.from_bytes(s.encode(), 'little')\n",
    "\n",
    "# add label\n",
    "data['Party Label'] = data.apply (lambda row: label_party(row), axis=1)\n",
    "\n",
    "states = {\n",
    "        'AK': 1,'AL': 2,'AR': 3,'AS': 4,'AZ': 5,'CA': 6,'CO': 7,'CT': 8,'DC': 9,'DE': 10,'FL': 11,'GA': 12,'GU': 13,'HI': 14,\n",
    "        'IA': 15,'ID': 16,'IL': 17,'IN': 18,'KS': 19,'KY': 20,'LA': 21,'MA': 22,'MD': 23,'ME': 24,'MI': 25,'MN': 26,'MO': 27,\n",
    "        'MP': 28,'MS': 29,'MT': 30,'NA': 31,'NC': 32,'ND': 33,'NE': 34,'NH': 35,'NJ': 36,'NM': 37,'NV': 38,'NY': 39,'OH': 40,\n",
    "        'OK': 41,'OR': 42,'PA': 43,'PR': 44,'RI': 45,'SC': 46,'SD': 47,'TN': 48,'TX': 49,'UT': 50,'VA': 51,'VI': 52, 'VT': 53,\n",
    "        'WA': 54,'WI': 55,'WV': 56,'WY': 57\n",
    "}\n",
    "data['State']=data['State'].map(states)\n",
    "\n",
    "data = data.drop('County', axis=1)\n",
    "data = data.drop('Republicans 2016', axis=1)\n",
    "data = data.drop('Democrats 2016', axis=1)\n",
    "\n",
    "#just some test, accuracy drops to 89%, so not much really.\n",
    "# data = data.drop('Republicans 2012', axis=1)\n",
    "# data = data.drop('Democrats 2012', axis=1)\n",
    "# data = data.drop('Republicans 2008', axis=1)\n",
    "# data = data.drop('Democrats 2008', axis=1)\n",
    "\n",
    "data = data.dropna()\n",
    "\n",
    "data.head(10)"
   ]
  },
  {
   "cell_type": "code",
   "execution_count": null,
   "metadata": {},
   "outputs": [],
   "source": [
    "labels = data['Party Label']\n",
    "features = data.drop(['Party Label'], axis=1)\n",
    "\n",
    "print(\"Features shape: \" + str(features.shape))\n",
    "print(\"Labels shape: \" + str(labels.shape))\n",
    "features.head()"
   ]
  },
  {
   "cell_type": "markdown",
   "metadata": {},
   "source": [
    "## Classifying the Data\n",
    "\n",
    "In attempting to build the best model possible to classify our records, we will first test several different classification algorithms on our data and assess the performance of each of them. We will assess each of these algorithms on how accurate they are, and how well they handle class imbalance, and display the results of each of those algorithms. Below, we discuss these two meaures in more detail.\n",
    "\n",
    "### 1) Accuracy\n",
    "\n",
    "Each algorithm will be tested on the data using K-Fold Cross Validation with 10 folds. In the first iteration, the first tenth of the data set will serve as the testing data and have the labels removed. The rest of the dataset will serve as the training data which will be used to build the algorithm. Once the algorithm is built, the testing records will be fed into the algorithm and classified. The alrogithm's classification of those testing records will be compared to the actual labels of those testing records to determine the accuracy of that iteration. In the second iteration, the second tenth of the data set will serve as the testing data while the rest serves as the training data. And so forth until all 10 folds are completed. The accuracy of that algorithm will be the average accuracy among those 10 folds.\n",
    "\n",
    "### 2) Class Imbalance\n",
    "\n",
    "Our dataset contains significantly more Republican than Democratic records given that the Democratic population tends to be more concentrated in urban areas. If our model were to be making mostly Republican predictions and have thus a high accuracy rate, we would want to know if this is because the model can properly distinguish what a Republican county looks like or the model is simply giving Republican labels most of the time without making that distinction. Creating a confusion matrix would be a more effective way to analyze the performance of a model instead of simplying looking at it's accuracy rate.\n",
    "\n",
    "In the matrix, the top left value is the number of True Positive Classifications (number of records classified Republican that were actually Republican. The Bottom left is the number of False Positive Classifications (number of records classified Republican that were actually Democratic). The top right is the number of False Negative Classifications (number of records classified Democratic that were actually Republican). And the bottom right is the nuumber of True Negative Classifications (number of records classified Democratic that were actually Democratic).\n",
    "\n",
    "Thus, in this scenario, we are particulary interested in achieveing a low rate of False Positive Classifications to indicate that the algorithm isn't making mostly Republican predictions simply because the majority class is Republican.\n",
    "\n",
    "Another way to analyze the algorithms performance under this Class Imbalance is calculating Precision and Recall. Precision is the probability that given a Repbulican classification, how likely is it to be correct. And Recall is the probability that given a Republican record, will it be classified as such. In this scenario, we are particularly interested in a high recall rate. The F-measure is also calculated which is a combination of both the precision and recall metric."
   ]
  },
  {
   "cell_type": "markdown",
   "metadata": {},
   "source": [
    "### Naive Bayes Algorithm"
   ]
  },
  {
   "cell_type": "code",
   "execution_count": null,
   "metadata": {},
   "outputs": [],
   "source": [
    "from sklearn.naive_bayes import GaussianNB\n",
    "from sklearn.model_selection import cross_val_score\n",
    "clf = GaussianNB()\n",
    "clf.fit(features, labels)\n",
    "\n",
    "# measuring accuracy\n",
    "nested_score = cross_val_score(clf, features, labels, cv=10)\n",
    "print(\"Accuracy of Naive Bayes Classifier:\", nested_score.mean()*100)\n",
    "\n",
    "# measuring class imblanace\n",
    "predicted_score = cross_val_predict(clf, features, labels, cv = 10)\n",
    "print(confusion_matrix(labels, predicted_score))\n",
    "print()\n",
    "print(classification_report(labels, predicted_score))"
   ]
  },
  {
   "cell_type": "markdown",
   "metadata": {},
   "source": [
    "### Decision Tree Algorithm"
   ]
  },
  {
   "cell_type": "code",
   "execution_count": null,
   "metadata": {},
   "outputs": [],
   "source": [
    "from sklearn.tree import DecisionTreeClassifier\n",
    "\n",
    "clf = DecisionTreeClassifier(criterion='entropy')\n",
    "clf.fit(features, labels)\n",
    "\n",
    "# measuring accuracy\n",
    "nested_score = cross_val_score(clf, features, labels, cv=10)\n",
    "print(\"Accuracy of Decision Tree Classifier:\", nested_score.mean()*100)\n",
    "\n",
    "# measuring class imbalance\n",
    "predicted_score = cross_val_predict(clf, features, labels, cv = 10)\n",
    "print(confusion_matrix(labels, predicted_score))\n",
    "print()\n",
    "print(classification_report(labels, predicted_score))"
   ]
  },
  {
   "cell_type": "markdown",
   "metadata": {},
   "source": [
    "## K-Nearest Neighbor Algorithm"
   ]
  },
  {
   "cell_type": "code",
   "execution_count": null,
   "metadata": {},
   "outputs": [],
   "source": [
    "from sklearn.neighbors import KNeighborsClassifier\n",
    "from sklearn.pipeline import Pipeline\n",
    "\n",
    "scaler = sk.preprocessing.StandardScaler()\n",
    "pca = sk.decomposition.PCA()\n",
    "knn = KNeighborsClassifier(n_neighbors=7)\n",
    "pipeline = Pipeline(steps = [('standard_scaler', scaler), ('pca', pca), ('knn', knn)])\n",
    "param_grid = {\n",
    "    'pca__n_components': list(range(5, 20)),\n",
    "    'knn__n_neighbors': list(range(1, 26))\n",
    "}\n",
    "grid = sk.model_selection.GridSearchCV(pipeline, param_grid, cv = 5)\n",
    "grid.fit(features, labels)\n",
    "\n",
    "k_val = grid.best_params_['knn__n_neighbors']\n",
    "clf = sk.neighbors.KNeighborsClassifier(n_neighbors = k_val)\n",
    "clf.fit(features, labels)\n",
    "\n",
    "# measuring accuracy\n",
    "nested_score = cross_val_score(clf, features, labels, cv=10)\n",
    "print(\"Accuracy of KNN Classifier:\", nested_score.mean()*100)\n",
    "\n",
    "# measuring class imblanace\n",
    "predicted_score = cross_val_predict(clf, features, labels, cv = 10)\n",
    "print(confusion_matrix(labels, predicted_score))\n",
    "print()\n",
    "print(classification_report(labels, predicted_score))"
   ]
  },
  {
   "cell_type": "markdown",
   "metadata": {},
   "source": [
    "## SVM Algorithm"
   ]
  },
  {
   "cell_type": "code",
   "execution_count": null,
   "metadata": {},
   "outputs": [],
   "source": [
    "from sklearn.svm import SVC\n",
    "from sklearn.pipeline import Pipeline\n",
    "from sklearn.preprocessing import StandardScaler\n",
    "from sklearn.decomposition import PCA\n",
    "from sklearn.model_selection import GridSearchCV\n",
    "from sklearn.model_selection import cross_val_score\n",
    "from sklearn.model_selection import cross_val_predict\n",
    "from sklearn.model_selection import train_test_split\n",
    "\n",
    "features_train, features_test, labels_train, labels_test = train_test_split(features, labels, test_size=0.20)\n",
    "\n",
    "\n",
    "#THIS SHOULD ALREADY BE DONE   \n",
    "# data_Y = data['Party Label']\n",
    "# data_X = data.drop(['Party Label'],axis=1)\n",
    "# x_train, x_test, y_train, y_test = train_test_split(data_X, data_Y, test_size=0.20)\n",
    "\n",
    "\n",
    "pca = PCA()\n",
    "scaler = StandardScaler()\n",
    "svc = SVC(gamma='auto')\n",
    "\n",
    "pipeline_svm = Pipeline([('scaler', scaler), ('pca', pca), ('svc', svc)])\n",
    "param_grid = {\n",
    "    'svc__kernel': ['linear', 'rbf', 'poly']\n",
    "}\n",
    "\n",
    "grid_search = GridSearchCV(pipeline_svm, param_grid, cv=5, scoring='accuracy')\n",
    "grid_search.fit(features, labels)\n",
    "\n",
    "# measuring accuracy\n",
    "nested_score = cross_val_score(grid_search, features, labels, cv=5)\n",
    "y_preds = cross_val_predict(pipeline_svm, features_test, labels_test, cv=10) \n",
    "print(\"Accuracy: \", nested_score.mean()*100, '\\n')\n",
    "\n",
    "# measuring class imblanace\n",
    "predicted_score = cross_val_predict(clf, features, labels, cv = 10)\n",
    "print(confusion_matrix(labels, predicted_score))\n",
    "print()\n",
    "print(classification_report(labels, predicted_score))"
   ]
  },
  {
   "cell_type": "markdown",
   "metadata": {},
   "source": [
    "## Neural Net Algorithm"
   ]
  },
  {
   "cell_type": "code",
   "execution_count": null,
   "metadata": {},
   "outputs": [],
   "source": [
    "from sklearn.neural_network import MLPClassifier\n",
    "\n",
    "mlp_class = MLPClassifier()\n",
    "pipeline_nn = Pipeline([('scaler', scaler), ('mlp_classifier', mlp_class)])\n",
    "\n",
    "param_grid = {\n",
    "    'mlp_classifier__hidden_layer_sizes': list(range(30, 60, 10)),\n",
    "    'mlp_classifier__activation': ['logistic', 'tanh', 'relu']\n",
    "}\n",
    "\n",
    "grid_search = GridSearchCV(pipeline_nn, param_grid, cv=5, scoring='accuracy')\n",
    "grid_search.fit(features, labels)\n",
    "\n",
    "# measuring accuracy\n",
    "nested_score = cross_val_score(grid_search, features, labels, cv=5)\n",
    "print(\"Accuracy: \", nested_score.mean()*100, '\\n')\n",
    "\n",
    "# measuring class imblanace\n",
    "predicted_score = cross_val_predict(clf, features, labels, cv = 10)\n",
    "print(confusion_matrix(labels, predicted_score))\n",
    "print()\n",
    "print(classification_report(labels, predicted_score))"
   ]
  },
  {
   "cell_type": "markdown",
   "metadata": {},
   "source": [
    "## Feature Engineering\n",
    "\n",
    "Feature Engineering is the process of creating new features in our dataset from a combination of exisiting features. Feature Engineering may improve the performance of the model by creating a feature that is more inditicative of political affiliation than exisiting features, reducing the total number of features that the algorithm has to work with, or a combination of both of these factors.\n",
    "\n",
    "One feature we added was the percentage of residents in Professional industries by adding the percentage of residents in both management and sales occuptions. Residents working in both of these types of professions tend to be of similar economic status. We then deleted the two individual columns in exchange for this new addition, reducing the total number of features used by the algorithm."
   ]
  },
  {
   "cell_type": "code",
   "execution_count": null,
   "metadata": {},
   "outputs": [],
   "source": [
    "def voter_turnout (row):\n",
    "    return (row['Votes'] / row['Total Population']) * 100\n",
    "\n",
    "def minority(row):\n",
    "    return (row['Black'] + row['Hispanic'] + row['Asian'] + row['Amerindian'] + row['Other Race'])\n",
    "\n",
    "def professional(row):\n",
    "    return (row['Management professional and related occupations'] + row['Sales and office occupations'])\n",
    "    \n",
    "def manufacturing(row):\n",
    "    return (row['Farming fishing and forestry occupations'] + row['Construction extraction maintenance and repair occupations'] + row['Production transportation and material moving occupations'])\n",
    "    \n",
    "data1 = data.pop('Party Label')    \n",
    "    \n",
    "data['Voter Turnout'] = data.apply (lambda row: voter_turnout(row), axis=1)\n",
    "data['Minority'] = data.apply (lambda row: minority(row), axis=1)\n",
    "data['Professional'] = data.apply (lambda row: professional(row), axis=1)\n",
    "data['Manufacturing'] = data.apply (lambda row: manufacturing(row), axis=1)\n",
    "\n",
    "data = data.drop('Black', axis=1)\n",
    "data = data.drop('Hispanic', axis=1)\n",
    "data = data.drop('Asian', axis=1)\n",
    "data = data.drop('Amerindian', axis=1)\n",
    "data = data.drop('Other Race', axis=1)\n",
    "data = data.drop('Management professional and related occupations', axis=1)\n",
    "data = data.drop('Sales and office occupations', axis=1)\n",
    "data = data.drop('Farming fishing and forestry occupations', axis=1)\n",
    "data = data.drop('Construction extraction maintenance and repair occupations', axis=1)\n",
    "data = data.drop('Production transportation and material moving occupations', axis=1)\n",
    "\n",
    "data['Party Label'] = data1\n",
    "\n",
    "data.head(10)"
   ]
  },
  {
   "cell_type": "code",
   "execution_count": null,
   "metadata": {},
   "outputs": [],
   "source": [
    "labels = data['Party Label']\n",
    "features = data.drop(['Party Label'], axis=1)\n",
    "\n",
    "print(\"Features shape: \" + str(features.shape))\n",
    "print(\"Labels shape: \" + str(labels.shape))\n",
    "features.head()"
   ]
  },
  {
   "cell_type": "markdown",
   "metadata": {},
   "source": [
    "## Optimizing Classification Algorithms\n",
    "\n",
    "We will now run our classification algorithms again with the new features in our dataset to assess to what degree adding or removing certain attributes will affect the accuracy of classifying our data. We will thus display the accuracy and class imblance for each algorithm under these new conditions. Furthermore, there are potential ways that each individual classification algorithm can be optimized based on their unique characteristics and we will explore that as well."
   ]
  },
  {
   "cell_type": "markdown",
   "metadata": {},
   "source": [
    "### Naive Bayes Algorithm"
   ]
  },
  {
   "cell_type": "code",
   "execution_count": null,
   "metadata": {},
   "outputs": [],
   "source": [
    "clf = GaussianNB()\n",
    "clf.fit(features, labels)\n",
    "\n",
    "# measuring accuracy\n",
    "nested_score = cross_val_score(clf, features, labels, cv=10)\n",
    "print(\"Accuracy of Naive Bayes Classifier:\", nested_score.mean()*100)\n",
    "\n",
    "# measuring class imblanace\n",
    "predicted_score = cross_val_predict(clf, features, labels, cv = 10)\n",
    "print(confusion_matrix(labels, predicted_score))\n",
    "print()\n",
    "print(classification_report(labels, predicted_score))"
   ]
  },
  {
   "cell_type": "markdown",
   "metadata": {},
   "source": [
    "Naive Bayes has the assumption that all the features in the dataset are indepedent. However, some features are depedent on each other, for example, all the percentages of race will add up to 100%. The following will attempt to remove some features that are dependent on each other to see if it gives a different accuracy. As it turned out, the accuracy decreased."
   ]
  },
  {
   "cell_type": "code",
   "execution_count": null,
   "metadata": {},
   "outputs": [],
   "source": [
    "data = data.drop('Fips', axis=1)\n",
    "data = data.drop('Democrats 2012', axis=1)\n",
    "data = data.drop('Democrats 2008', axis=1)\n",
    "data = data.drop('Less Than High School Diploma', axis=1)\n",
    "data = data.drop('Minority', axis=1)\n",
    "data = data.drop('Voter Turnout', axis=1)\n",
    "data = data.drop('Professional', axis=1)\n",
    "\n",
    "data.head(10)"
   ]
  },
  {
   "cell_type": "code",
   "execution_count": null,
   "metadata": {},
   "outputs": [],
   "source": [
    "labels = data['Party Label']\n",
    "features = data.drop(['Party Label'], axis=1)\n",
    "data.head()\n",
    "\n",
    "print(\"Features shape: \" + str(features.shape))\n",
    "print(\"Labels shape: \" + str(labels.shape))\n",
    "features.head()\n",
    "\n",
    "clf = GaussianNB()\n",
    "clf.fit(features, labels)\n",
    "\n",
    "nested_score = cross_val_score(clf, features, labels, cv=10)\n",
    "print(\"Accuracy:\", nested_score.mean()*100)\n",
    "\n",
    "predicted_score = cross_val_predict(clf, features, labels, cv = 10)\n",
    "print(confusion_matrix(labels, predicted_score))\n",
    "print()\n",
    "print(classification_report(labels, predicted_score))"
   ]
  },
  {
   "cell_type": "markdown",
   "metadata": {},
   "source": [
    "### Decision Tree Algorithm"
   ]
  },
  {
   "cell_type": "code",
   "execution_count": null,
   "metadata": {},
   "outputs": [],
   "source": [
    "# TODO Leon: Run Decision Tree Accuracy & Classification Report with new features"
   ]
  },
  {
   "cell_type": "markdown",
   "metadata": {},
   "source": [
    "TODO Leon: Discuss problem with overfitting and using different tree sizes"
   ]
  },
  {
   "cell_type": "code",
   "execution_count": null,
   "metadata": {},
   "outputs": [],
   "source": [
    "# TODO Leon: Run Decision Tree Accuracy & Classification Report with some different max tree sizes"
   ]
  },
  {
   "cell_type": "markdown",
   "metadata": {},
   "source": [
    "### KNN Algorithm"
   ]
  },
  {
   "cell_type": "code",
   "execution_count": null,
   "metadata": {},
   "outputs": [],
   "source": [
    "# TODO Tiffany: Run KNN Accuracy & Classification Report with new features\n",
    "scaler = sk.preprocessing.StandardScaler()\n",
    "pca = sk.decomposition.PCA()\n",
    "knn = KNeighborsClassifier(n_neighbors=7)\n",
    "pipeline = Pipeline(steps = [('standard_scaler', scaler), ('pca', pca), ('knn', knn)])\n",
    "param_grid = {\n",
    "    'pca__n_components': list(range(1, 15)),\n",
    "    'knn__n_neighbors': list(range(1, 26))\n",
    "}\n",
    "grid = sk.model_selection.GridSearchCV(pipeline, param_grid, cv = 5)\n",
    "grid.fit(features, labels)\n",
    "\n",
    "k_val = grid.best_params_['knn__n_neighbors']\n",
    "clf = sk.neighbors.KNeighborsClassifier(n_neighbors = k_val)\n",
    "clf.fit(features, labels)\n",
    "\n",
    "# measuring accuracy\n",
    "nested_score = cross_val_score(clf, features, labels, cv=10)\n",
    "print(\"Accuracy of KNN Classifier:\", nested_score.mean()*100)\n",
    "\n",
    "# measuring class imblanace\n",
    "predicted_score = cross_val_predict(clf, features, labels, cv = 10)\n",
    "print(confusion_matrix(labels, predicted_score))\n",
    "print()\n",
    "print(classification_report(labels, predicted_score))"
   ]
  },
  {
   "cell_type": "markdown",
   "metadata": {},
   "source": [
    "The K-Nearest Neighbor algorithm is affected by class imbalances - if there is an uneven ratio of one class label to another, it may predict that the majority class is more likely, simply because it has more records. To combat this, we will weight points by the inverse of their distance. In this case, closer neighbors of a query point will have a greater influence than neighbors which are further away. As it so happens, this caused the accuracy to decrease."
   ]
  },
  {
   "cell_type": "code",
   "execution_count": null,
   "metadata": {},
   "outputs": [],
   "source": [
    "# TODO Tiffany: Run KNN Accuracy & Classification Report with weighted votes\n",
    "scaler = sk.preprocessing.StandardScaler()\n",
    "pca = sk.decomposition.PCA()\n",
    "knn = KNeighborsClassifier(n_neighbors=7, weights='distance')\n",
    "pipeline = Pipeline(steps = [('standard_scaler', scaler), ('pca', pca), ('knn', knn)])\n",
    "param_grid = {\n",
    "    'pca__n_components': list(range(1, 15)),\n",
    "    'knn__n_neighbors': list(range(1, 26))\n",
    "}\n",
    "grid = sk.model_selection.GridSearchCV(pipeline, param_grid, cv = 5)\n",
    "grid.fit(features, labels)\n",
    "\n",
    "k_val = grid.best_params_['knn__n_neighbors']\n",
    "clf = sk.neighbors.KNeighborsClassifier(n_neighbors = k_val, weights='distance')\n",
    "clf.fit(features, labels)\n",
    "\n",
    "# measuring accuracy\n",
    "nested_score = cross_val_score(clf, features, labels, cv=10)\n",
    "print(\"Accuracy of Weighted KNN Classifier:\", nested_score.mean()*100)\n",
    "\n",
    "# measuring class imblanace\n",
    "predicted_score = cross_val_predict(clf, features, labels, cv = 10)\n",
    "print(confusion_matrix(labels, predicted_score))\n",
    "print()\n",
    "print(classification_report(labels, predicted_score))"
   ]
  },
  {
   "cell_type": "markdown",
   "metadata": {},
   "source": [
    "### SVM Algorithm"
   ]
  },
  {
   "cell_type": "code",
   "execution_count": null,
   "metadata": {},
   "outputs": [],
   "source": [
    "# TODO Emily: Run SVM Accuracy & Classification Report with new features"
   ]
  },
  {
   "cell_type": "markdown",
   "metadata": {},
   "source": [
    "TODO Emily: Discuss problem with selecting right kernel"
   ]
  },
  {
   "cell_type": "code",
   "execution_count": null,
   "metadata": {},
   "outputs": [],
   "source": [
    "# TODO Emily: Run SVM Accuracy & Classification Report with different kernel"
   ]
  },
  {
   "cell_type": "markdown",
   "metadata": {},
   "source": [
    "### Neural Net Algorithm"
   ]
  },
  {
   "cell_type": "code",
   "execution_count": null,
   "metadata": {},
   "outputs": [],
   "source": [
    "# TODO Emily: Run NN Accuracy & Classification Report with new features"
   ]
  },
  {
   "cell_type": "markdown",
   "metadata": {},
   "source": [
    "TODO Emily or Leon: Discuss problem with training it correctly and getting stuck at local minima"
   ]
  },
  {
   "cell_type": "code",
   "execution_count": null,
   "metadata": {},
   "outputs": [],
   "source": [
    "# TODO Emily or Leon: Run NN Accuracy & Classification with different Hidden Layer Values"
   ]
  },
  {
   "cell_type": "markdown",
   "metadata": {},
   "source": [
    "### Ensembling\n",
    "\n",
    "TODO Leon: Write an explanation"
   ]
  },
  {
   "cell_type": "markdown",
   "metadata": {},
   "source": [
    "### Homogenous Random Forest Ensemble With Decision Trees: "
   ]
  },
  {
   "cell_type": "code",
   "execution_count": null,
   "metadata": {},
   "outputs": [],
   "source": [
    "# your code goes here\n",
    "from sklearn.ensemble import RandomForestClassifier\n",
    "\n",
    "pipeline = Pipeline(steps = [('rfc', RandomForestClassifier())])\n",
    "param_grid = {\n",
    "    'rfc__max_depth': list(range(35, 55)),\n",
    "    'rfc__min_samples_leaf': [8,10,12],\n",
    "    'rfc__max_features': [\"sqrt\", \"log2\"]\n",
    "    \n",
    "}\n",
    "grid_search = GridSearchCV(pipeline, param_grid, cv=5, scoring='accuracy')\n",
    "grid_search.fit(features, labels)\n",
    "nested_score = cross_val_score(grid_search, features, labels, cv = 5)\n",
    "print(\"Accuracy:\", nested_score.mean()*100)"
   ]
  },
  {
   "cell_type": "markdown",
   "metadata": {},
   "source": [
    "### Heterogeneous Stacked Ensemble Using Decision Trees, Naive Bayes, and SVM:"
   ]
  },
  {
   "cell_type": "code",
   "execution_count": null,
   "metadata": {},
   "outputs": [],
   "source": [
    "from sklearn.ensemble import StackingClassifier\n",
    "\n",
    "# creating the different classifiers\n",
    "clf_1 = DecisionTreeClassifier(criterion='entropy')\n",
    "clf_2 = GaussianNB()\n",
    "clf_3 = SVC(gamma='auto')\n",
    "\n",
    "estimators = [('dt', clf_1), ('nb', clf_2), ('svm', clf_3)]\n",
    "\n",
    "\n",
    "clf = StackingClassifier(estimators=estimators)\n",
    "acc = clf.fit(features_train, labels_train).score(features_test, labels_test)\n",
    "print(\"Accuracy:\", acc*100)"
   ]
  },
  {
   "cell_type": "code",
   "execution_count": null,
   "metadata": {},
   "outputs": [],
   "source": [
    "### TODO Everyone else: add in your ensembling algorithms"
   ]
  },
  {
   "cell_type": "markdown",
   "metadata": {},
   "source": [
    "## ROC Curve\n",
    "\n",
    "A ROC Curve illustrates the alrogithm's trade off between its True Positive Rate and True Negative Rate. The higher percentage of the graph area that is under the curve (AUC or Area Under the Curve), the more accurate the algorithm is. An AUC value of 50% indicates that the algorithm is about as good as random guessing, and the algorithm clearly performs well beyond that."
   ]
  },
  {
   "cell_type": "code",
   "execution_count": null,
   "metadata": {},
   "outputs": [],
   "source": [
    "# your code goes here\n",
    "from sklearn.metrics import roc_curve\n",
    "from sklearn.metrics import roc_auc_score\n",
    "from sklearn.model_selection import train_test_split\n",
    "\n",
    "features_train, features_test, labels_train, labels_test = train_test_split(features, labels, test_size=0.20)\n",
    "\n",
    "clf = GaussianNB()\n",
    "clf.fit(features_train, labels_train)\n",
    "\n",
    "proba = clf.predict_proba(features_test)\n",
    "fpr_result, tpr_result, thresholds = roc_curve(labels_test, proba[:,1])\n",
    "#replace these fpr and tpr with the results of your roc_curve\n",
    "fpr, tpr = fpr_result, tpr_result\n",
    "\n",
    "print(roc_auc_score(labels_test, proba[:,1]))\n",
    "\n",
    "# Do not change this code! This plots the ROC curve.\n",
    "# Just replace the fpr and tpr above with the values from your roc_curve\n",
    "plt.plot([0,1],[0,1],'k--') #plot the diagonal line\n",
    "plt.plot(fpr, tpr, label='NB') #plot the ROC curve\n",
    "plt.xlabel('fpr')\n",
    "plt.ylabel('tpr')\n",
    "plt.title('ROC Curve Naive Bayes')\n",
    "plt.show()"
   ]
  },
  {
   "cell_type": "code",
   "execution_count": null,
   "metadata": {},
   "outputs": [],
   "source": [
    "# your code goes here\n",
    "from sklearn.metrics import roc_curve\n",
    "from sklearn.metrics import roc_auc_score\n",
    "from sklearn.model_selection import train_test_split\n",
    "\n",
    "features_train, features_test, labels_train, labels_test = train_test_split(features, labels, test_size=0.20)\n",
    "\n",
    "clf = GaussianNB()\n",
    "clf.fit(features_train, labels_train)\n",
    "\n",
    "proba = clf.predict_proba(features_test)\n",
    "fpr_result, tpr_result, thresholds = roc_curve(labels_test, proba[:,1])\n",
    "#replace these fpr and tpr with the results of your roc_curve\n",
    "fpr, tpr = fpr_result, tpr_result\n",
    "\n",
    "print(roc_auc_score(labels_test, proba[:,1]))\n",
    "\n",
    "# Do not change this code! This plots the ROC curve.\n",
    "# Just replace the fpr and tpr above with the values from your roc_curve\n",
    "plt.plot([0,1],[0,1],'k--') #plot the diagonal line\n",
    "plt.plot(fpr, tpr, label='NB') #plot the ROC curve\n",
    "plt.xlabel('fpr')\n",
    "plt.ylabel('tpr')\n",
    "plt.title('ROC Curve Naive Bayes')\n",
    "plt.show()"
   ]
  },
  {
   "cell_type": "code",
   "execution_count": null,
   "metadata": {},
   "outputs": [],
   "source": []
  }
 ],
 "metadata": {
  "kernelspec": {
   "display_name": "Python 3",
   "language": "python",
   "name": "python3"
  },
  "language_info": {
   "codemirror_mode": {
    "name": "ipython",
    "version": 3
   },
   "file_extension": ".py",
   "mimetype": "text/x-python",
   "name": "python",
   "nbconvert_exporter": "python",
   "pygments_lexer": "ipython3",
   "version": "3.7.4"
  }
 },
 "nbformat": 4,
 "nbformat_minor": 2
}
